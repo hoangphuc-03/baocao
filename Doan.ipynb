{
  "cells": [
    {
      "cell_type": "markdown",
      "metadata": {
        "id": "view-in-github",
        "colab_type": "text"
      },
      "source": [
        "<a href=\"https://colab.research.google.com/github/hoangphuc-03/baocao/blob/main/Doan.ipynb\" target=\"_parent\"><img src=\"https://colab.research.google.com/assets/colab-badge.svg\" alt=\"Open In Colab\"/></a>"
      ]
    },
    {
      "cell_type": "markdown",
      "metadata": {
        "id": "KuZfqm0O6ylL"
      },
      "source": [
        "# 1 Các bước tiền xử lí"
      ]
    },
    {
      "cell_type": "markdown",
      "metadata": {
        "id": "mhcChAFP60mW"
      },
      "source": [
        "## 1.1 import các thư viện cần thiết"
      ]
    },
    {
      "cell_type": "code",
      "execution_count": null,
      "metadata": {
        "id": "57M83UMz64C7"
      },
      "outputs": [],
      "source": [
        "%matplotlib inline\n",
        "#Visualization Libraries\n",
        "import matplotlib.pyplot as plt\n",
        "import seaborn as sns\n",
        "\n",
        "#Data processing Libraries\n",
        "import numpy as np\n",
        "import pandas as pd\n",
        "from sklearn.model_selection import train_test_split\n",
        "#huan luyen du lieu\n",
        "from sklearn.preprocessing import LabelEncoder\n",
        "#ma hoa gia tri sang so\n",
        "\n",
        "from sklearn.preprocessing import StandardScaler\n",
        "#chuan hoa du lieu\n",
        "\n",
        "from sklearn.tree import DecisionTreeClassifier,plot_tree\n",
        "#xay dung mo hinh cay\n",
        "from sklearn.metrics import accuracy_score, confusion_matrix\n",
        "#tinh toan do chinh xac mo hinh phan loai\n",
        "from sklearn.metrics import accuracy_score"
      ]
    },
    {
      "cell_type": "markdown",
      "metadata": {
        "id": "0SLWNeFe6-mr"
      },
      "source": [
        "## 1.2 Cấu hình cài đặt"
      ]
    },
    {
      "cell_type": "code",
      "execution_count": null,
      "metadata": {
        "id": "n8Qy56LX7Bvw"
      },
      "outputs": [],
      "source": [
        "pd.set_option('display.max_columns',100)          # Set now of columns visible to 100\n",
        "pd.set_option('display.max_rows',100)"
      ]
    },
    {
      "cell_type": "markdown",
      "metadata": {
        "id": "BHyqXrMi8cgM"
      },
      "source": [
        "## 1.3 import file"
      ]
    },
    {
      "cell_type": "code",
      "execution_count": null,
      "metadata": {
        "id": "_PXCa52A8fxN"
      },
      "outputs": [],
      "source": [
        "df=pd.read_csv(\"/content/Australian Vehicle Prices.csv\")"
      ]
    },
    {
      "cell_type": "markdown",
      "metadata": {
        "id": "Sxeqr7nh8Lij"
      },
      "source": [
        "# 2 | Dataframe Investigation"
      ]
    },
    {
      "cell_type": "markdown",
      "metadata": {
        "id": "sKlH8C0s8TQ7"
      },
      "source": [
        "## 2.1 Basic Steps"
      ]
    },
    {
      "cell_type": "code",
      "execution_count": null,
      "metadata": {
        "id": "NyvpPPFK8WJx"
      },
      "outputs": [],
      "source": [
        "df.shape"
      ]
    },
    {
      "cell_type": "code",
      "execution_count": null,
      "metadata": {
        "id": "0eR4MlUg8ld8"
      },
      "outputs": [],
      "source": [
        "df.head(10)"
      ]
    },
    {
      "cell_type": "code",
      "execution_count": null,
      "metadata": {
        "id": "lK6hvtrZ8x8u"
      },
      "outputs": [],
      "source": [
        "# No Null values present\n",
        "df.info()"
      ]
    },
    {
      "cell_type": "markdown",
      "metadata": {
        "id": "yzIu5ltJDSos"
      },
      "source": [
        "## 2.2 Check Null and delet colum"
      ]
    },
    {
      "cell_type": "code",
      "execution_count": null,
      "metadata": {
        "id": "as4Tyt2x9Bi0"
      },
      "outputs": [],
      "source": [
        "null_counts = df.isnull().sum()\n",
        "print(null_counts)"
      ]
    },
    {
      "cell_type": "code",
      "execution_count": null,
      "metadata": {
        "id": "1NVM6ADF-qLD"
      },
      "outputs": [],
      "source": [
        "df = df.drop(columns=['BodyType','Doors','Seats'], axis=1)"
      ]
    },
    {
      "cell_type": "code",
      "execution_count": null,
      "metadata": {
        "id": "5DEj5fR2CL7l"
      },
      "outputs": [],
      "source": [
        "df.info()"
      ]
    },
    {
      "cell_type": "code",
      "execution_count": null,
      "metadata": {
        "id": "Wb_AB4yjCTGn"
      },
      "outputs": [],
      "source": [
        "df=df.dropna()\n",
        "null_counts = df.isnull().sum()\n",
        "print(null_counts)"
      ]
    },
    {
      "cell_type": "markdown",
      "metadata": {
        "id": "atydugBTDbot"
      },
      "source": [
        "## 2.3 data transfer"
      ]
    },
    {
      "cell_type": "code",
      "execution_count": null,
      "metadata": {
        "id": "uaKSL4G4DldA"
      },
      "outputs": [],
      "source": [
        "pd.value_counts(df.dtypes)"
      ]
    },
    {
      "cell_type": "code",
      "execution_count": null,
      "metadata": {
        "id": "nKCNIhxCDvVe"
      },
      "outputs": [],
      "source": [
        "#Tạo một đối tượng LabelEncoder\n",
        "label_encoder = LabelEncoder()\n",
        "df.loc[:, 'Brand'] = label_encoder.fit_transform(df['Brand'])\n",
        "df.loc[:, 'Year'] = label_encoder.fit_transform(df['Year'])\n",
        "df.loc[:, 'Model'] = label_encoder.fit_transform(df['Model'])\n",
        "df.loc[:, 'Car/Suv'] = label_encoder.fit_transform(df['Car/Suv'])\n",
        "df.loc[:, 'Title'] = label_encoder.fit_transform(df['Title'])\n",
        "df.loc[:, 'UsedOrNew'] = label_encoder.fit_transform(df['UsedOrNew'])\n",
        "df.loc[:, 'Transmission'] = label_encoder.fit_transform(df['Transmission'])\n",
        "df.loc[:, 'Engine'] = label_encoder.fit_transform(df['Engine'])\n",
        "df.loc[:, 'DriveType'] = label_encoder.fit_transform(df['DriveType'])\n",
        "df.loc[:, 'FuelType'] = label_encoder.fit_transform(df['FuelType'])\n",
        "df.loc[:, 'FuelConsumption'] = label_encoder.fit_transform(df['FuelConsumption'])\n",
        "df.loc[:, 'Kilometres'] = label_encoder.fit_transform(df['Kilometres'])\n",
        "df.loc[:, 'ColourExtInt'] = label_encoder.fit_transform(df['ColourExtInt'])\n",
        "df.loc[:, 'Location'] = label_encoder.fit_transform(df['Location'])\n",
        "df['CylindersinEngine'] = label_encoder.fit_transform(df['CylindersinEngine'])\n",
        "df['Price'] = label_encoder.fit_transform(df['Price'])\n",
        "\n",
        "#Hiển thị DataFrame sau khi chuyển đổi\n",
        "df.describe()"
      ]
    },
    {
      "cell_type": "code",
      "execution_count": null,
      "metadata": {
        "id": "kOmtB5XYEP9z"
      },
      "outputs": [],
      "source": [
        "pd.value_counts(df.dtypes)"
      ]
    },
    {
      "cell_type": "markdown",
      "source": [
        "## 2.4 ma trận tương quang"
      ],
      "metadata": {
        "id": "4aZKSKDngXNk"
      }
    },
    {
      "cell_type": "code",
      "source": [
        "plt.figure(figsize=(20,15))\n",
        "plt.title('Heatmap corralation')\n",
        "sns.heatmap(data=pd.get_dummies(df).corr(), annot=True);"
      ],
      "metadata": {
        "id": "trdjAeTXgdZQ"
      },
      "execution_count": null,
      "outputs": []
    },
    {
      "cell_type": "markdown",
      "source": [
        "# 3 gán nhãn cho Price"
      ],
      "metadata": {
        "id": "G21lE9HtTbV6"
      }
    },
    {
      "cell_type": "code",
      "source": [
        "df['price_label'] = df['Price'].apply(lambda value: 'Dỏm' if value <= 742 else 'Trung bình' if value <= 1364 else 'Khá' if value <= 2242.25 else 'Tốt')"
      ],
      "metadata": {
        "id": "RYiE9NhDPvrp"
      },
      "execution_count": null,
      "outputs": []
    },
    {
      "cell_type": "code",
      "execution_count": null,
      "metadata": {
        "id": "Bs7ZWoHpG4Xk"
      },
      "outputs": [],
      "source": [
        "df.info()"
      ]
    },
    {
      "cell_type": "markdown",
      "source": [
        "# 4 số biểu đồ"
      ],
      "metadata": {
        "id": "8uYDDLM3h_4z"
      }
    },
    {
      "cell_type": "markdown",
      "source": [
        "## 4.1 biểu đồ đếm"
      ],
      "metadata": {
        "id": "ab8Mom4ziExx"
      }
    },
    {
      "cell_type": "code",
      "source": [
        "plt.figure(figsize=(15,8))\n",
        "plt.title('Count of Price')\n",
        "sns.countplot(data=df, x='price_label')"
      ],
      "metadata": {
        "id": "tGPNKbwhiImR"
      },
      "execution_count": null,
      "outputs": []
    },
    {
      "cell_type": "markdown",
      "source": [
        "## 4.2 Biểu đồ histogram"
      ],
      "metadata": {
        "id": "462Fw-YCiU8I"
      }
    },
    {
      "cell_type": "code",
      "source": [
        "df.hist(figsize=(15,15),bins=50);"
      ],
      "metadata": {
        "id": "7hOzMyUuS4rM"
      },
      "execution_count": null,
      "outputs": []
    },
    {
      "cell_type": "markdown",
      "source": [
        "# 5 modeling"
      ],
      "metadata": {
        "id": "DaiprA93iulg"
      }
    },
    {
      "cell_type": "code",
      "source": [
        "target = df.pop('Price')"
      ],
      "metadata": {
        "id": "t0bh7jPqVjRM"
      },
      "execution_count": null,
      "outputs": []
    },
    {
      "cell_type": "code",
      "source": [
        "# Xác định các đặc trưng (X) và biến mục tiêu (y)\n",
        "X = df.drop('price_label', axis=1)\n",
        "y = df['price_label']"
      ],
      "metadata": {
        "id": "r9IHNvp_VlmN"
      },
      "execution_count": null,
      "outputs": []
    },
    {
      "cell_type": "code",
      "source": [
        "X_train, X_test, y_train, y_test = train_test_split(X, y, test_size=0.2, random_state=42)"
      ],
      "metadata": {
        "id": "I4w-7M7eVwkF"
      },
      "execution_count": null,
      "outputs": []
    },
    {
      "cell_type": "markdown",
      "source": [
        "## 5.1 Decision Tree"
      ],
      "metadata": {
        "id": "Z46_Bsumixa_"
      }
    },
    {
      "cell_type": "code",
      "source": [
        "# Initialize the Decision Tree classifier\n",
        "#dt_classifier = DecisionTreeClassifier(random_state=42)\n",
        "dt_classifier = DecisionTreeClassifier(random_state=42)\n",
        "# Train the model on the training set\n",
        "dt_classifier.fit(X_train, y_train)\n",
        "\n",
        "# Make predictions on the test set\n",
        "y_pred = dt_classifier.predict(X_test)\n",
        "\n",
        "# Evaluate the accuracy of the model\n",
        "accuracy = accuracy_score(y_test, y_pred)\n",
        "print(f\"Decision Tree Accuracy: {accuracy}\")"
      ],
      "metadata": {
        "id": "m4PBjJhnV2it"
      },
      "execution_count": null,
      "outputs": []
    },
    {
      "cell_type": "code",
      "source": [
        "# Create a confusion matrix\n",
        "cm = confusion_matrix(y_test, y_pred)\n",
        "\n",
        "# Display the confusion matrix using a heatmap\n",
        "plt.figure(figsize=(8, 6))\n",
        "sns.heatmap(cm, annot=True, fmt=\"d\", cmap=\"Blues\", cbar=False,\n",
        "            xticklabels=['price_label 0', 'price_label 1', 'price_label 2', 'price_label 3'], yticklabels=['price_label 0', 'price_label 1', 'price_label 2', 'price_label 3'])\n",
        "plt.xlabel('Predicted')\n",
        "plt.ylabel('True')\n",
        "plt.title('Confusion Matrix')\n",
        "plt.show()"
      ],
      "metadata": {
        "id": "XeBSUmGaWKoJ"
      },
      "execution_count": null,
      "outputs": []
    },
    {
      "cell_type": "code",
      "source": [
        "plt.figure(figsize=(12, 8))\n",
        "plot_tree(dt_classifier, filled=True, feature_names=X.columns, class_names=[\"price_label 0\", \"price_label 1\", \"price_label 2\", \"price_label 3\"], max_depth=2)\n",
        "plt.show()"
      ],
      "metadata": {
        "id": "DWX413EFWg1v"
      },
      "execution_count": null,
      "outputs": []
    },
    {
      "cell_type": "code",
      "source": [
        "#Find the best max-depth for DT algorithm\n",
        "# Define a range of max_depth values to iterate over\n",
        "max_depth_values = range(3, 20)  # You can adjust this range\n",
        "\n",
        "# Initialize variables to keep track of the best max depth and corresponding score\n",
        "best_max_depth = None\n",
        "best_score = 0.0\n",
        "\n",
        "# Iterate over different max_depth values\n",
        "for max_depth in max_depth_values:\n",
        "    # Initialize the DecisionTreeClassifier with the current max_depth\n",
        "    clf = DecisionTreeClassifier(max_depth=max_depth, random_state=42)\n",
        "    # Fit the model to the training data\n",
        "    clf.fit(X_train, y_train)\n",
        "    # Evaluate the model on the test data\n",
        "    test_score = clf.score(X_test, y_test)\n",
        "    # Perform cross-validation on the training data\n",
        "    #cv_score = cross_val_score(clf, X_train, y_train, cv=5).mean()\n",
        "\n",
        "    # Print the score for the current max_depth\n",
        "    print(f\"Max Depth = {max_depth}: Test Score = {test_score}\")\n",
        "    # Check if the current model has a better score than the previous best\n",
        "    if test_score > best_score:\n",
        "        best_score = test_score\n",
        "        best_max_depth = max_depth\n",
        "\n",
        "# Print the best max depth and corresponding score\n",
        "print(f\"Best Max Depth = {best_max_depth}: Best Test Score = {best_score}\")"
      ],
      "metadata": {
        "id": "b6goDNo4eVa-"
      },
      "execution_count": null,
      "outputs": []
    },
    {
      "cell_type": "code",
      "source": [
        "from sklearn.model_selection import cross_val_score\n",
        "# Perform 10-fold cross-validation\n",
        "scores = cross_val_score(clf, X, y, cv=10)\n",
        "# Print the cross-validation scores\n",
        "print(\"Cross-Validation Scores:\", scores)\n",
        "print(\"Mean CV Score:\", scores.mean())"
      ],
      "metadata": {
        "id": "IrLJ50EYeo-O"
      },
      "execution_count": null,
      "outputs": []
    },
    {
      "cell_type": "code",
      "source": [
        "from sklearn.tree import export_text\n",
        "# Export the text representation of the decision tree\n",
        "tree_rules = export_text(clf, feature_names=X.columns.tolist())\n",
        "print(tree_rules)"
      ],
      "metadata": {
        "id": "_i71jZIWez0V"
      },
      "execution_count": null,
      "outputs": []
    },
    {
      "cell_type": "markdown",
      "source": [
        "## 5.2 Random Forest"
      ],
      "metadata": {
        "id": "HKS6NO6usPIW"
      }
    },
    {
      "cell_type": "code",
      "source": [
        "import pandas as pd\n",
        "from sklearn.model_selection import train_test_split\n",
        "from sklearn.ensemble import RandomForestClassifier\n",
        "from sklearn.metrics import accuracy_score, classification_report\n",
        "\n",
        "#tao du lieu de thu\n",
        "X = pd.get_dummies(X)\n",
        "\n",
        "# Chia dữ liệu thành tập huấn luyện và tập kiểm tra\n",
        "X_train, X_test, y_train, y_test = train_test_split(X, y, test_size=0.2, random_state=42)\n",
        "\n",
        "rf = RandomForestClassifier(n_estimators=100, random_state=42)\n",
        "\n",
        "# Huấn luyện mô hình trên tập dữ liệu huấn luyện\n",
        "rf.fit(X_train, y_train)\n",
        "\n",
        "# Dự đoán nhãn cho tập dữ liệu test\n",
        "predictions = rf.predict(X_test)\n",
        "\n",
        "# Đánh giá độ chính xác và hiển thị báo cáo\n",
        "accuracy = accuracy_score(y_test, predictions)\n",
        "print(f\"Accuracy: {accuracy}\")\n",
        "print(classification_report(y_test, predictions))"
      ],
      "metadata": {
        "id": "vQaa47etjyRM"
      },
      "execution_count": null,
      "outputs": []
    },
    {
      "cell_type": "code",
      "source": [
        "from sklearn.ensemble import RandomForestClassifier\n",
        "from sklearn.tree import export_graphviz\n",
        "import graphviz\n",
        "\n",
        "# Khởi tạo và huấn luyện mô hình Random Forest\n",
        "random_forest = RandomForestClassifier(random_state=42)\n",
        "random_forest.fit(X_train, y_train)\n",
        "\n",
        "# Xuất ra biểu đồ của ba cây quyết định đầu tiên\n",
        "for i in range(3):\n",
        "    tree = random_forest.estimators_[i]\n",
        "    dot_data = export_graphviz(tree, feature_names=X_train.columns, filled=True, max_depth=2,impurity=False, proportion=True)\n",
        "    graph = graphviz.Source(dot_data)\n",
        "    display(graph)"
      ],
      "metadata": {
        "id": "12CZbtR9lfrO"
      },
      "execution_count": null,
      "outputs": []
    }
  ],
  "metadata": {
    "colab": {
      "provenance": [],
      "include_colab_link": true
    },
    "kernelspec": {
      "display_name": "Python 3",
      "name": "python3"
    },
    "language_info": {
      "name": "python"
    }
  },
  "nbformat": 4,
  "nbformat_minor": 0
}